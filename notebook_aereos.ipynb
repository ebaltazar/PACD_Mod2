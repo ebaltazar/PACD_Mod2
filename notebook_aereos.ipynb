{
 "cells": [
  {
   "cell_type": "markdown",
   "id": "4d752a33",
   "metadata": {},
   "source": [
    "1. Carga de dataset\n",
    "Se eligió el siguiente dataset que contiene información de vuelos, pasajeros, rutas y aerolíneas en el país desde el año 2017.\n",
    "Es provista por la Subsecretaría de Turismo.\n",
    "https://datos.gob.ar/dataset/turismo-conectividad-aerea/archivo/turismo_aab49234-28c9-48ab-a978-a83485139290"
   ]
  },
  {
   "cell_type": "code",
   "execution_count": 27,
   "id": "bbe66402",
   "metadata": {},
   "outputs": [
    {
     "data": {
      "text/html": [
       "<div>\n",
       "<style scoped>\n",
       "    .dataframe tbody tr th:only-of-type {\n",
       "        vertical-align: middle;\n",
       "    }\n",
       "\n",
       "    .dataframe tbody tr th {\n",
       "        vertical-align: top;\n",
       "    }\n",
       "\n",
       "    .dataframe thead th {\n",
       "        text-align: right;\n",
       "    }\n",
       "</style>\n",
       "<table border=\"1\" class=\"dataframe\">\n",
       "  <thead>\n",
       "    <tr style=\"text-align: right;\">\n",
       "      <th></th>\n",
       "      <th>indice_tiempo</th>\n",
       "      <th>clasificacion_vuelo</th>\n",
       "      <th>clase_vuelo</th>\n",
       "      <th>aerolinea</th>\n",
       "      <th>origen_oaci</th>\n",
       "      <th>origen_aeropuerto</th>\n",
       "      <th>origen_localidad</th>\n",
       "      <th>origen_provincia</th>\n",
       "      <th>origen_pais</th>\n",
       "      <th>origen_continente</th>\n",
       "      <th>destino_oaci</th>\n",
       "      <th>destino_aeropuerto</th>\n",
       "      <th>destino_localidad</th>\n",
       "      <th>destino_provincia</th>\n",
       "      <th>destino_pais</th>\n",
       "      <th>destino_continente</th>\n",
       "      <th>pasajeros</th>\n",
       "      <th>asientos</th>\n",
       "      <th>vuelos</th>\n",
       "    </tr>\n",
       "  </thead>\n",
       "  <tbody>\n",
       "    <tr>\n",
       "      <th>0</th>\n",
       "      <td>2017-01-01</td>\n",
       "      <td>Cabotaje</td>\n",
       "      <td>No Regular</td>\n",
       "      <td>Andes Líneas Aéreas</td>\n",
       "      <td>SAAV</td>\n",
       "      <td>Aeropuerto de Sauce Viejo</td>\n",
       "      <td>Santa Fe</td>\n",
       "      <td>Santa Fe</td>\n",
       "      <td>Argentina</td>\n",
       "      <td>América del Sur</td>\n",
       "      <td>SAZS</td>\n",
       "      <td>Aeropuerto Int. Tte. Luis Candelaria</td>\n",
       "      <td>San Carlos de Bariloche</td>\n",
       "      <td>Río Negro</td>\n",
       "      <td>Argentina</td>\n",
       "      <td>América del Sur</td>\n",
       "      <td>85</td>\n",
       "      <td>85</td>\n",
       "      <td>1</td>\n",
       "    </tr>\n",
       "    <tr>\n",
       "      <th>1</th>\n",
       "      <td>2017-01-01</td>\n",
       "      <td>Cabotaje</td>\n",
       "      <td>No Regular</td>\n",
       "      <td>Andes Líneas Aéreas</td>\n",
       "      <td>SASA</td>\n",
       "      <td>Aeropuerto Int. Martín Miguel de Güemes</td>\n",
       "      <td>Salta</td>\n",
       "      <td>Salta</td>\n",
       "      <td>Argentina</td>\n",
       "      <td>América del Sur</td>\n",
       "      <td>SASJ</td>\n",
       "      <td>Aeropuerto Int. Gdor. Horacio Guzmán</td>\n",
       "      <td>San Salvador de Jujuy</td>\n",
       "      <td>Jujuy</td>\n",
       "      <td>Argentina</td>\n",
       "      <td>América del Sur</td>\n",
       "      <td>23</td>\n",
       "      <td>83</td>\n",
       "      <td>1</td>\n",
       "    </tr>\n",
       "    <tr>\n",
       "      <th>2</th>\n",
       "      <td>2017-01-01</td>\n",
       "      <td>Cabotaje</td>\n",
       "      <td>No Regular</td>\n",
       "      <td>Andes Líneas Aéreas</td>\n",
       "      <td>SAZS</td>\n",
       "      <td>Aeropuerto Int. Tte. Luis Candelaria</td>\n",
       "      <td>San Carlos de Bariloche</td>\n",
       "      <td>Río Negro</td>\n",
       "      <td>Argentina</td>\n",
       "      <td>América del Sur</td>\n",
       "      <td>SAAV</td>\n",
       "      <td>Aeropuerto de Sauce Viejo</td>\n",
       "      <td>Santa Fe</td>\n",
       "      <td>Santa Fe</td>\n",
       "      <td>Argentina</td>\n",
       "      <td>América del Sur</td>\n",
       "      <td>78</td>\n",
       "      <td>83</td>\n",
       "      <td>1</td>\n",
       "    </tr>\n",
       "    <tr>\n",
       "      <th>3</th>\n",
       "      <td>2017-01-01</td>\n",
       "      <td>Cabotaje</td>\n",
       "      <td>Regular</td>\n",
       "      <td>Aerolíneas Argentinas</td>\n",
       "      <td>SAAR</td>\n",
       "      <td>Aeropuerto Int. de Rosario Islas Malvinas</td>\n",
       "      <td>Rosario</td>\n",
       "      <td>Santa Fe</td>\n",
       "      <td>Argentina</td>\n",
       "      <td>América del Sur</td>\n",
       "      <td>SACO</td>\n",
       "      <td>Aeropuerto Int. Ingeniero Ambrosio Taravella</td>\n",
       "      <td>Córdoba</td>\n",
       "      <td>Córdoba</td>\n",
       "      <td>Argentina</td>\n",
       "      <td>América del Sur</td>\n",
       "      <td>48</td>\n",
       "      <td>128</td>\n",
       "      <td>1</td>\n",
       "    </tr>\n",
       "    <tr>\n",
       "      <th>4</th>\n",
       "      <td>2017-01-01</td>\n",
       "      <td>Cabotaje</td>\n",
       "      <td>Regular</td>\n",
       "      <td>Aerolíneas Argentinas</td>\n",
       "      <td>SAAR</td>\n",
       "      <td>Aeropuerto Int. de Rosario Islas Malvinas</td>\n",
       "      <td>Rosario</td>\n",
       "      <td>Santa Fe</td>\n",
       "      <td>Argentina</td>\n",
       "      <td>América del Sur</td>\n",
       "      <td>SAEZ</td>\n",
       "      <td>Aeropuerto Int. Ministro Pistarini</td>\n",
       "      <td>Ezeiza</td>\n",
       "      <td>Buenos Aires</td>\n",
       "      <td>Argentina</td>\n",
       "      <td>América del Sur</td>\n",
       "      <td>90</td>\n",
       "      <td>128</td>\n",
       "      <td>1</td>\n",
       "    </tr>\n",
       "  </tbody>\n",
       "</table>\n",
       "</div>"
      ],
      "text/plain": [
       "  indice_tiempo clasificacion_vuelo clase_vuelo              aerolinea  \\\n",
       "0    2017-01-01            Cabotaje  No Regular    Andes Líneas Aéreas   \n",
       "1    2017-01-01            Cabotaje  No Regular    Andes Líneas Aéreas   \n",
       "2    2017-01-01            Cabotaje  No Regular    Andes Líneas Aéreas   \n",
       "3    2017-01-01            Cabotaje     Regular  Aerolíneas Argentinas   \n",
       "4    2017-01-01            Cabotaje     Regular  Aerolíneas Argentinas   \n",
       "\n",
       "  origen_oaci                          origen_aeropuerto  \\\n",
       "0        SAAV                  Aeropuerto de Sauce Viejo   \n",
       "1        SASA    Aeropuerto Int. Martín Miguel de Güemes   \n",
       "2        SAZS       Aeropuerto Int. Tte. Luis Candelaria   \n",
       "3        SAAR  Aeropuerto Int. de Rosario Islas Malvinas   \n",
       "4        SAAR  Aeropuerto Int. de Rosario Islas Malvinas   \n",
       "\n",
       "          origen_localidad origen_provincia origen_pais origen_continente  \\\n",
       "0                 Santa Fe         Santa Fe   Argentina   América del Sur   \n",
       "1                    Salta            Salta   Argentina   América del Sur   \n",
       "2  San Carlos de Bariloche        Río Negro   Argentina   América del Sur   \n",
       "3                  Rosario         Santa Fe   Argentina   América del Sur   \n",
       "4                  Rosario         Santa Fe   Argentina   América del Sur   \n",
       "\n",
       "  destino_oaci                            destino_aeropuerto  \\\n",
       "0         SAZS          Aeropuerto Int. Tte. Luis Candelaria   \n",
       "1         SASJ          Aeropuerto Int. Gdor. Horacio Guzmán   \n",
       "2         SAAV                     Aeropuerto de Sauce Viejo   \n",
       "3         SACO  Aeropuerto Int. Ingeniero Ambrosio Taravella   \n",
       "4         SAEZ            Aeropuerto Int. Ministro Pistarini   \n",
       "\n",
       "         destino_localidad destino_provincia destino_pais destino_continente  \\\n",
       "0  San Carlos de Bariloche         Río Negro    Argentina    América del Sur   \n",
       "1    San Salvador de Jujuy             Jujuy    Argentina    América del Sur   \n",
       "2                 Santa Fe          Santa Fe    Argentina    América del Sur   \n",
       "3                  Córdoba           Córdoba    Argentina    América del Sur   \n",
       "4                   Ezeiza      Buenos Aires    Argentina    América del Sur   \n",
       "\n",
       "   pasajeros  asientos  vuelos  \n",
       "0         85        85       1  \n",
       "1         23        83       1  \n",
       "2         78        83       1  \n",
       "3         48       128       1  \n",
       "4         90       128       1  "
      ]
     },
     "execution_count": 27,
     "metadata": {},
     "output_type": "execute_result"
    }
   ],
   "source": [
    "# Se debe bajar el dataset base_microdatos.csv y colocarla en la misma carpeta del proyecto\n",
    "import pandas as pd\n",
    "\n",
    "# Cargar el CSV en un dataframe (se crea carpeta datos para mejor organización)\n",
    "df_vuelos = pd.read_csv(\"datos/base_microdatos.csv\")\n",
    "\n",
    "# Mostrar las primeras filas para verificar carga correcta\n",
    "df_vuelos.head()\n",
    "\n",
    "###pip install sqlalchemy pymysql python-dotenv"
   ]
  },
  {
   "cell_type": "markdown",
   "id": "64c0efd5",
   "metadata": {},
   "source": [
    "2. Almacenamiento en base de datos\n",
    "Se escogió MySQL Workbench 8.0 Community (cliente) junto a XAMPP 3.0 (servidor)\n",
    "Para poder acceder a la base de datos, se creará un archivo .env el cual almacenará variables de entorno (como credenciales)\n",
    "Esto será más seguro ya que protege al mantenerlas fuera del código fuente."
   ]
  },
  {
   "cell_type": "code",
   "execution_count": 28,
   "id": "02bb3754",
   "metadata": {},
   "outputs": [
    {
     "name": "stdout",
     "output_type": "stream",
     "text": [
      "✅ Base de datos 'db_aereos' creada o ya existente.\n",
      "🎯 Conectado a la base de datos: db_aereos\n",
      "Tabla 'tb_vuelos' creada (si no existía).\n"
     ]
    }
   ],
   "source": [
    "from dotenv import load_dotenv\n",
    "import os\n",
    "from sqlalchemy import create_engine, text\n",
    "\n",
    "# Cargar el archivo .env y almacenarlas en variables\n",
    "load_dotenv(override=True)\n",
    "\n",
    "db_user=os.getenv(\"DB_USER\")\n",
    "db_pass=os.getenv(\"DB_PASS\")\n",
    "db_host=os.getenv(\"DB_HOST\")\n",
    "db_port=os.getenv(\"DB_PORT\")\n",
    "db_name=os.getenv(\"DB_NAME\")\n",
    "tb_name=os.getenv(\"TB_NAME\")\n",
    "\n",
    "# Crear conexión al servidor MySQL (sin base de datos)\n",
    "connection_url_no_db = f\"mysql+pymysql://{db_user}:{db_pass}@{db_host}:{db_port}\"\n",
    "engine = create_engine(connection_url_no_db)\n",
    "\n",
    "# Crear la base de datos si no existe\n",
    "with engine.connect() as conn:\n",
    "    conn.execute(text(f\"CREATE DATABASE IF NOT EXISTS {db_name}\"))\n",
    "    print(f\"✅ Base de datos '{db_name}' creada o ya existente.\")\n",
    "\n",
    "# Al usar with se evita olvidar cerrar la conexión con conn.close().\n",
    "\n",
    "# Crear engine ahora apuntando a la base de datos\n",
    "connection_url = f\"mysql+pymysql://{db_user}:{db_pass}@{db_host}:{db_port}/{db_name}\"\n",
    "engine_db = create_engine(connection_url)\n",
    "\n",
    "# Verificar conexión a la base de datos creada\n",
    "with engine_db.connect() as conn:\n",
    "    result = conn.execute(text(\"SELECT DATABASE();\"))\n",
    "    print(\"🎯 Conectado a la base de datos:\", result.scalar())\n",
    "\n",
    "# Crear tabla si no existe\n",
    "with engine_db.connect() as conn:\n",
    "    create_table_query = f\"\"\"\n",
    "    CREATE TABLE IF NOT EXISTS {tb_name} (\n",
    "    indice_tiempo DATETIME,\n",
    "    clasificacion_vuelo VARCHAR(50),\n",
    "    clase_vuelo VARCHAR(50),\n",
    "    aerolinea VARCHAR(100),\n",
    "    origen_oaci VARCHAR(10),\n",
    "    origen_aeropuerto VARCHAR(100),\n",
    "    origen_localidad VARCHAR(100),\n",
    "    origen_provincia VARCHAR(100),\n",
    "    origen_pais VARCHAR(100),\n",
    "    origen_continente VARCHAR(100),\n",
    "    destino_oaci VARCHAR(10),\n",
    "    destino_aeropuerto VARCHAR(100),\n",
    "    destino_localidad VARCHAR(100),\n",
    "    destino_provincia VARCHAR(100),\n",
    "    destino_pais VARCHAR(100),\n",
    "    destino_continente VARCHAR(100),\n",
    "    pasajeros INT,\n",
    "    asientos INT,\n",
    "    vuelos INT\n",
    "    )\n",
    "    \"\"\"\n",
    "    conn.execute(text(create_table_query))\n",
    "    print(f\"Tabla '{tb_name}' creada (si no existía).\")\n",
    "\n",
    "# Pasar datos del dataframe a la tabla de MySQL\n",
    "    df_vuelos.to_sql(\n",
    "    name=tb_name,         # nombre de la tabla en la base de datos\n",
    "    con=engine_db,\n",
    "    if_exists='replace',  # 'replace' borra la tabla si existe, 'append' agrega filas (sólo cargaremos por unica vez)\n",
    "    index=False           # para no guardar el índice del DataFrame como columna\n",
    "    )\n",
    "\n",
    "    print(f\"Tabla '{tb_name}' cargada con datos.\")\n"
   ]
  },
  {
   "cell_type": "markdown",
   "id": "47eea215",
   "metadata": {},
   "source": [
    "3. Construcción del dashboard\n",
    "Se usará notebook de jupyter para crear dashboard con la información de la base de datos.\n",
    "Se eligió Plotly para la visualización de gráficos."
   ]
  },
  {
   "cell_type": "code",
   "execution_count": 39,
   "id": "025da47a",
   "metadata": {},
   "outputs": [
    {
     "name": "stdout",
     "output_type": "stream",
     "text": [
      "🛬 Destino más visitado:\n",
      "destino_localidad       destino_pais\n",
      "Ciudad de Buenos Aires  Argentina       50179619\n",
      "Name: pasajeros, dtype: int64\n"
     ]
    },
    {
     "data": {
      "application/vnd.plotly.v1+json": {
       "config": {
        "plotlyServerURL": "https://plot.ly"
       },
       "data": [
        {
         "hovertemplate": "destino_etiqueta=%{x}<br>pasajeros_millones=%{marker.color}<extra></extra>",
         "legendgroup": "",
         "marker": {
          "color": {
           "bdata": "16NwPQoXSUBSuB6F69FCQB+F61G4HiVAcT0K16NwHkAfhetRuB4eQKRwPQrXox1AcT0K16NwG0DsUbgehesTQLgehetRuBJASOF6FK5HD0A=",
           "dtype": "f8"
          },
          "coloraxis": "coloraxis",
          "pattern": {
           "shape": ""
          }
         },
         "name": "",
         "orientation": "v",
         "showlegend": false,
         "text": {
          "bdata": "16NwPQoXSUBSuB6F69FCQB+F61G4HiVAcT0K16NwHkAfhetRuB4eQKRwPQrXox1AcT0K16NwG0DsUbgehesTQLgehetRuBJASOF6FK5HD0A=",
          "dtype": "f8"
         },
         "textposition": "auto",
         "type": "bar",
         "x": [
          "Ciudad de Buenos Aires (Argentina)",
          "Ezeiza (Argentina)",
          "Córdoba (Argentina)",
          "Mendoza (Argentina)",
          "Santiago (Chile)",
          "San Carlos de Bariloche (Argentina)",
          "São Paulo (Brasil)",
          "Puerto Iguazú (Argentina)",
          "Salta (Argentina)",
          "Río de Janeiro (Brasil)"
         ],
         "xaxis": "x",
         "y": {
          "bdata": "16NwPQoXSUBSuB6F69FCQB+F61G4HiVAcT0K16NwHkAfhetRuB4eQKRwPQrXox1AcT0K16NwG0DsUbgehesTQLgehetRuBJASOF6FK5HD0A=",
          "dtype": "f8"
         },
         "yaxis": "y"
        }
       ],
       "layout": {
        "barmode": "relative",
        "coloraxis": {
         "colorbar": {
          "title": {
           "text": "pasajeros_millones"
          }
         },
         "colorscale": [
          [
           0,
           "#0d0887"
          ],
          [
           0.1111111111111111,
           "#46039f"
          ],
          [
           0.2222222222222222,
           "#7201a8"
          ],
          [
           0.3333333333333333,
           "#9c179e"
          ],
          [
           0.4444444444444444,
           "#bd3786"
          ],
          [
           0.5555555555555556,
           "#d8576b"
          ],
          [
           0.6666666666666666,
           "#ed7953"
          ],
          [
           0.7777777777777778,
           "#fb9f3a"
          ],
          [
           0.8888888888888888,
           "#fdca26"
          ],
          [
           1,
           "#f0f921"
          ]
         ]
        },
        "legend": {
         "tracegroupgap": 0
        },
        "template": {
         "data": {
          "bar": [
           {
            "error_x": {
             "color": "#2a3f5f"
            },
            "error_y": {
             "color": "#2a3f5f"
            },
            "marker": {
             "line": {
              "color": "#E5ECF6",
              "width": 0.5
             },
             "pattern": {
              "fillmode": "overlay",
              "size": 10,
              "solidity": 0.2
             }
            },
            "type": "bar"
           }
          ],
          "barpolar": [
           {
            "marker": {
             "line": {
              "color": "#E5ECF6",
              "width": 0.5
             },
             "pattern": {
              "fillmode": "overlay",
              "size": 10,
              "solidity": 0.2
             }
            },
            "type": "barpolar"
           }
          ],
          "carpet": [
           {
            "aaxis": {
             "endlinecolor": "#2a3f5f",
             "gridcolor": "white",
             "linecolor": "white",
             "minorgridcolor": "white",
             "startlinecolor": "#2a3f5f"
            },
            "baxis": {
             "endlinecolor": "#2a3f5f",
             "gridcolor": "white",
             "linecolor": "white",
             "minorgridcolor": "white",
             "startlinecolor": "#2a3f5f"
            },
            "type": "carpet"
           }
          ],
          "choropleth": [
           {
            "colorbar": {
             "outlinewidth": 0,
             "ticks": ""
            },
            "type": "choropleth"
           }
          ],
          "contour": [
           {
            "colorbar": {
             "outlinewidth": 0,
             "ticks": ""
            },
            "colorscale": [
             [
              0,
              "#0d0887"
             ],
             [
              0.1111111111111111,
              "#46039f"
             ],
             [
              0.2222222222222222,
              "#7201a8"
             ],
             [
              0.3333333333333333,
              "#9c179e"
             ],
             [
              0.4444444444444444,
              "#bd3786"
             ],
             [
              0.5555555555555556,
              "#d8576b"
             ],
             [
              0.6666666666666666,
              "#ed7953"
             ],
             [
              0.7777777777777778,
              "#fb9f3a"
             ],
             [
              0.8888888888888888,
              "#fdca26"
             ],
             [
              1,
              "#f0f921"
             ]
            ],
            "type": "contour"
           }
          ],
          "contourcarpet": [
           {
            "colorbar": {
             "outlinewidth": 0,
             "ticks": ""
            },
            "type": "contourcarpet"
           }
          ],
          "heatmap": [
           {
            "colorbar": {
             "outlinewidth": 0,
             "ticks": ""
            },
            "colorscale": [
             [
              0,
              "#0d0887"
             ],
             [
              0.1111111111111111,
              "#46039f"
             ],
             [
              0.2222222222222222,
              "#7201a8"
             ],
             [
              0.3333333333333333,
              "#9c179e"
             ],
             [
              0.4444444444444444,
              "#bd3786"
             ],
             [
              0.5555555555555556,
              "#d8576b"
             ],
             [
              0.6666666666666666,
              "#ed7953"
             ],
             [
              0.7777777777777778,
              "#fb9f3a"
             ],
             [
              0.8888888888888888,
              "#fdca26"
             ],
             [
              1,
              "#f0f921"
             ]
            ],
            "type": "heatmap"
           }
          ],
          "histogram": [
           {
            "marker": {
             "pattern": {
              "fillmode": "overlay",
              "size": 10,
              "solidity": 0.2
             }
            },
            "type": "histogram"
           }
          ],
          "histogram2d": [
           {
            "colorbar": {
             "outlinewidth": 0,
             "ticks": ""
            },
            "colorscale": [
             [
              0,
              "#0d0887"
             ],
             [
              0.1111111111111111,
              "#46039f"
             ],
             [
              0.2222222222222222,
              "#7201a8"
             ],
             [
              0.3333333333333333,
              "#9c179e"
             ],
             [
              0.4444444444444444,
              "#bd3786"
             ],
             [
              0.5555555555555556,
              "#d8576b"
             ],
             [
              0.6666666666666666,
              "#ed7953"
             ],
             [
              0.7777777777777778,
              "#fb9f3a"
             ],
             [
              0.8888888888888888,
              "#fdca26"
             ],
             [
              1,
              "#f0f921"
             ]
            ],
            "type": "histogram2d"
           }
          ],
          "histogram2dcontour": [
           {
            "colorbar": {
             "outlinewidth": 0,
             "ticks": ""
            },
            "colorscale": [
             [
              0,
              "#0d0887"
             ],
             [
              0.1111111111111111,
              "#46039f"
             ],
             [
              0.2222222222222222,
              "#7201a8"
             ],
             [
              0.3333333333333333,
              "#9c179e"
             ],
             [
              0.4444444444444444,
              "#bd3786"
             ],
             [
              0.5555555555555556,
              "#d8576b"
             ],
             [
              0.6666666666666666,
              "#ed7953"
             ],
             [
              0.7777777777777778,
              "#fb9f3a"
             ],
             [
              0.8888888888888888,
              "#fdca26"
             ],
             [
              1,
              "#f0f921"
             ]
            ],
            "type": "histogram2dcontour"
           }
          ],
          "mesh3d": [
           {
            "colorbar": {
             "outlinewidth": 0,
             "ticks": ""
            },
            "type": "mesh3d"
           }
          ],
          "parcoords": [
           {
            "line": {
             "colorbar": {
              "outlinewidth": 0,
              "ticks": ""
             }
            },
            "type": "parcoords"
           }
          ],
          "pie": [
           {
            "automargin": true,
            "type": "pie"
           }
          ],
          "scatter": [
           {
            "fillpattern": {
             "fillmode": "overlay",
             "size": 10,
             "solidity": 0.2
            },
            "type": "scatter"
           }
          ],
          "scatter3d": [
           {
            "line": {
             "colorbar": {
              "outlinewidth": 0,
              "ticks": ""
             }
            },
            "marker": {
             "colorbar": {
              "outlinewidth": 0,
              "ticks": ""
             }
            },
            "type": "scatter3d"
           }
          ],
          "scattercarpet": [
           {
            "marker": {
             "colorbar": {
              "outlinewidth": 0,
              "ticks": ""
             }
            },
            "type": "scattercarpet"
           }
          ],
          "scattergeo": [
           {
            "marker": {
             "colorbar": {
              "outlinewidth": 0,
              "ticks": ""
             }
            },
            "type": "scattergeo"
           }
          ],
          "scattergl": [
           {
            "marker": {
             "colorbar": {
              "outlinewidth": 0,
              "ticks": ""
             }
            },
            "type": "scattergl"
           }
          ],
          "scattermap": [
           {
            "marker": {
             "colorbar": {
              "outlinewidth": 0,
              "ticks": ""
             }
            },
            "type": "scattermap"
           }
          ],
          "scattermapbox": [
           {
            "marker": {
             "colorbar": {
              "outlinewidth": 0,
              "ticks": ""
             }
            },
            "type": "scattermapbox"
           }
          ],
          "scatterpolar": [
           {
            "marker": {
             "colorbar": {
              "outlinewidth": 0,
              "ticks": ""
             }
            },
            "type": "scatterpolar"
           }
          ],
          "scatterpolargl": [
           {
            "marker": {
             "colorbar": {
              "outlinewidth": 0,
              "ticks": ""
             }
            },
            "type": "scatterpolargl"
           }
          ],
          "scatterternary": [
           {
            "marker": {
             "colorbar": {
              "outlinewidth": 0,
              "ticks": ""
             }
            },
            "type": "scatterternary"
           }
          ],
          "surface": [
           {
            "colorbar": {
             "outlinewidth": 0,
             "ticks": ""
            },
            "colorscale": [
             [
              0,
              "#0d0887"
             ],
             [
              0.1111111111111111,
              "#46039f"
             ],
             [
              0.2222222222222222,
              "#7201a8"
             ],
             [
              0.3333333333333333,
              "#9c179e"
             ],
             [
              0.4444444444444444,
              "#bd3786"
             ],
             [
              0.5555555555555556,
              "#d8576b"
             ],
             [
              0.6666666666666666,
              "#ed7953"
             ],
             [
              0.7777777777777778,
              "#fb9f3a"
             ],
             [
              0.8888888888888888,
              "#fdca26"
             ],
             [
              1,
              "#f0f921"
             ]
            ],
            "type": "surface"
           }
          ],
          "table": [
           {
            "cells": {
             "fill": {
              "color": "#EBF0F8"
             },
             "line": {
              "color": "white"
             }
            },
            "header": {
             "fill": {
              "color": "#C8D4E3"
             },
             "line": {
              "color": "white"
             }
            },
            "type": "table"
           }
          ]
         },
         "layout": {
          "annotationdefaults": {
           "arrowcolor": "#2a3f5f",
           "arrowhead": 0,
           "arrowwidth": 1
          },
          "autotypenumbers": "strict",
          "coloraxis": {
           "colorbar": {
            "outlinewidth": 0,
            "ticks": ""
           }
          },
          "colorscale": {
           "diverging": [
            [
             0,
             "#8e0152"
            ],
            [
             0.1,
             "#c51b7d"
            ],
            [
             0.2,
             "#de77ae"
            ],
            [
             0.3,
             "#f1b6da"
            ],
            [
             0.4,
             "#fde0ef"
            ],
            [
             0.5,
             "#f7f7f7"
            ],
            [
             0.6,
             "#e6f5d0"
            ],
            [
             0.7,
             "#b8e186"
            ],
            [
             0.8,
             "#7fbc41"
            ],
            [
             0.9,
             "#4d9221"
            ],
            [
             1,
             "#276419"
            ]
           ],
           "sequential": [
            [
             0,
             "#0d0887"
            ],
            [
             0.1111111111111111,
             "#46039f"
            ],
            [
             0.2222222222222222,
             "#7201a8"
            ],
            [
             0.3333333333333333,
             "#9c179e"
            ],
            [
             0.4444444444444444,
             "#bd3786"
            ],
            [
             0.5555555555555556,
             "#d8576b"
            ],
            [
             0.6666666666666666,
             "#ed7953"
            ],
            [
             0.7777777777777778,
             "#fb9f3a"
            ],
            [
             0.8888888888888888,
             "#fdca26"
            ],
            [
             1,
             "#f0f921"
            ]
           ],
           "sequentialminus": [
            [
             0,
             "#0d0887"
            ],
            [
             0.1111111111111111,
             "#46039f"
            ],
            [
             0.2222222222222222,
             "#7201a8"
            ],
            [
             0.3333333333333333,
             "#9c179e"
            ],
            [
             0.4444444444444444,
             "#bd3786"
            ],
            [
             0.5555555555555556,
             "#d8576b"
            ],
            [
             0.6666666666666666,
             "#ed7953"
            ],
            [
             0.7777777777777778,
             "#fb9f3a"
            ],
            [
             0.8888888888888888,
             "#fdca26"
            ],
            [
             1,
             "#f0f921"
            ]
           ]
          },
          "colorway": [
           "#636efa",
           "#EF553B",
           "#00cc96",
           "#ab63fa",
           "#FFA15A",
           "#19d3f3",
           "#FF6692",
           "#B6E880",
           "#FF97FF",
           "#FECB52"
          ],
          "font": {
           "color": "#2a3f5f"
          },
          "geo": {
           "bgcolor": "white",
           "lakecolor": "white",
           "landcolor": "#E5ECF6",
           "showlakes": true,
           "showland": true,
           "subunitcolor": "white"
          },
          "hoverlabel": {
           "align": "left"
          },
          "hovermode": "closest",
          "mapbox": {
           "style": "light"
          },
          "paper_bgcolor": "white",
          "plot_bgcolor": "#E5ECF6",
          "polar": {
           "angularaxis": {
            "gridcolor": "white",
            "linecolor": "white",
            "ticks": ""
           },
           "bgcolor": "#E5ECF6",
           "radialaxis": {
            "gridcolor": "white",
            "linecolor": "white",
            "ticks": ""
           }
          },
          "scene": {
           "xaxis": {
            "backgroundcolor": "#E5ECF6",
            "gridcolor": "white",
            "gridwidth": 2,
            "linecolor": "white",
            "showbackground": true,
            "ticks": "",
            "zerolinecolor": "white"
           },
           "yaxis": {
            "backgroundcolor": "#E5ECF6",
            "gridcolor": "white",
            "gridwidth": 2,
            "linecolor": "white",
            "showbackground": true,
            "ticks": "",
            "zerolinecolor": "white"
           },
           "zaxis": {
            "backgroundcolor": "#E5ECF6",
            "gridcolor": "white",
            "gridwidth": 2,
            "linecolor": "white",
            "showbackground": true,
            "ticks": "",
            "zerolinecolor": "white"
           }
          },
          "shapedefaults": {
           "line": {
            "color": "#2a3f5f"
           }
          },
          "ternary": {
           "aaxis": {
            "gridcolor": "white",
            "linecolor": "white",
            "ticks": ""
           },
           "baxis": {
            "gridcolor": "white",
            "linecolor": "white",
            "ticks": ""
           },
           "bgcolor": "#E5ECF6",
           "caxis": {
            "gridcolor": "white",
            "linecolor": "white",
            "ticks": ""
           }
          },
          "title": {
           "x": 0.05
          },
          "xaxis": {
           "automargin": true,
           "gridcolor": "white",
           "linecolor": "white",
           "ticks": "",
           "title": {
            "standoff": 15
           },
           "zerolinecolor": "white",
           "zerolinewidth": 2
          },
          "yaxis": {
           "automargin": true,
           "gridcolor": "white",
           "linecolor": "white",
           "ticks": "",
           "title": {
            "standoff": 15
           },
           "zerolinecolor": "white",
           "zerolinewidth": 2
          }
         }
        },
        "title": {
         "text": "✈️ Top 10 destinos más visitados"
        },
        "xaxis": {
         "anchor": "y",
         "domain": [
          0,
          1
         ],
         "title": {
          "text": "Destino (País)"
         }
        },
        "yaxis": {
         "anchor": "x",
         "domain": [
          0,
          1
         ],
         "title": {
          "text": "Pasajeros (millones)"
         }
        }
       }
      }
     },
     "metadata": {},
     "output_type": "display_data"
    }
   ],
   "source": [
    "#pip install plotly\n",
    "#pip install nbformat\n",
    "#pip install --upgrade --force-reinstall nbformat\n",
    "\n",
    "import pandas as pd\n",
    "import plotly.express as px\n",
    "\n",
    "# Cargar datos de MySQL a dataframe\n",
    "df_vuelos_sql = pd.read_sql(\"SELECT * FROM tb_vuelos\", con=engine_db)\n",
    "\n",
    "### TOP destinos más visitados\n",
    "\n",
    "# Agrupar por destino y sumar pasajeros\n",
    "destino_mas_visitado = df_vuelos_sql.groupby([\"destino_localidad\",\"destino_pais\"])[\"pasajeros\"].sum().sort_values(ascending=False)\n",
    "\n",
    "# Mostrar el top 1\n",
    "print(\"🛬 Destino más visitado:\")\n",
    "print(destino_mas_visitado.head(1))\n",
    "\n",
    "# Top 10 de los más visitados\n",
    "top_destinos = destino_mas_visitado.head(10).reset_index()\n",
    "top_destinos[\"destino_etiqueta\"] = top_destinos[\"destino_localidad\"] + \" (\" + top_destinos[\"destino_pais\"] + \")\"\n",
    "\n",
    "# Convertir cantidad pasajeros en millones\n",
    "top_destinos[\"pasajeros_millones\"] = (top_destinos[\"pasajeros\"] / 1_000_000).round(3)\n",
    "\n",
    "\n",
    "fig = px.bar(\n",
    "    top_destinos,\n",
    "    x=\"destino_etiqueta\",\n",
    "    y=\"pasajeros_millones\",\n",
    "    title=\"✈️ Top 10 destinos más visitados\",\n",
    "    color=\"pasajeros_millones\",\n",
    "    text=\"pasajeros_millones\"\n",
    ")\n",
    "fig.update_layout(xaxis_title=\"Destino (País)\", yaxis_title=\"Pasajeros (millones)\")\n",
    "fig.show()"
   ]
  },
  {
   "cell_type": "code",
   "execution_count": null,
   "id": "1696d861",
   "metadata": {},
   "outputs": [
    {
     "name": "stdout",
     "output_type": "stream",
     "text": [
      "🛫 Aerolínea con más vuelos:\n",
      "aerolinea\n",
      "Aerolíneas Argentinas    836387\n",
      "Name: vuelos, dtype: int64\n",
      "\n",
      "🛬 Aerolínea con menos vuelos:\n",
      "aerolinea\n",
      "TAME    1\n",
      "Name: vuelos, dtype: int64\n"
     ]
    },
    {
     "data": {
      "application/vnd.plotly.v1+json": {
       "config": {
        "plotlyServerURL": "https://plot.ly"
       },
       "data": [
        {
         "hovertemplate": "aerolinea=%{x}<br>vuelos=%{marker.color}<extra></extra>",
         "legendgroup": "",
         "marker": {
          "color": {
           "bdata": "I8MMANPTAgBwoQEAUlQBABC9AAC4gQAA/VoAALhXAAA1VgAA6VAAANstAADXKgAA9ikAAFAkAABQIwAACCAAAIcfAABUGwAAKRoAAKwYAABMGAAA1xUAAKsUAACLEwAA0RIAAPcRAACKEAAAuA4AAMkMAACwDAAAkQwAABwJAAAiBQAA0AQAAGIEAAD8AgAAqwIAACQCAAD4AQAAxgEAAFsBAAAhAQAA2QAAAHAAAAAIAAAABQAAAAIAAAACAAAAAQAAAAEAAAABAAAAAQAAAA==",
           "dtype": "i4"
          },
          "coloraxis": "coloraxis",
          "pattern": {
           "shape": ""
          }
         },
         "name": "",
         "orientation": "v",
         "showlegend": false,
         "text": {
          "bdata": "AAAAAEaGKUEAAAAAmJ4GQQAAAAAAF/pAAAAAACBF9UAAAAAAAKLnQAAAAAAAN+BAAAAAAEC/1kAAAAAAAO7VQAAAAABAjdVAAAAAAEA61EAAAAAAgO3GQAAAAACAa8VAAAAAAAD7xEAAAAAAACjCQAAAAAAAqMFAAAAAAAAEwEAAAAAAAIe/QAAAAAAAVLtAAAAAAAApukAAAAAAAKy4QAAAAAAATLhAAAAAAADXtUAAAAAAAKu0QAAAAAAAi7NAAAAAAADRskAAAAAAAPexQAAAAAAAirBAAAAAAABwrUAAAAAAAJKpQAAAAAAAYKlAAAAAAAAiqUAAAAAAADiiQAAAAAAAiJRAAAAAAABAk0AAAAAAAIiRQAAAAAAA4IdAAAAAAABYhUAAAAAAACCBQAAAAAAAgH9AAAAAAABgfEAAAAAAALB1QAAAAAAAEHJAAAAAAAAga0AAAAAAAABcQAAAAAAAACBAAAAAAAAAFEAAAAAAAAAAQAAAAAAAAABAAAAAAAAA8D8AAAAAAADwPwAAAAAAAPA/AAAAAAAA8D8=",
          "dtype": "f8"
         },
         "textposition": "auto",
         "type": "bar",
         "x": [
          "Aerolíneas Argentinas",
          "LATAM",
          "Flybondi",
          "JetSMART Airlines",
          "Gol Transportes Aéreos",
          "Copa Airlines",
          "Avianca",
          "Andes Líneas Aéreas",
          "Sky Airline",
          "American Airlines",
          "Norwegian Air Shuttle",
          "Iberia Airlines",
          "LADE - Líneas Aéreas Del Estado",
          "Paranair",
          "KLM",
          "Air Europa",
          "Boliviana de Aviación",
          "United Airlines",
          "Azul Linhas Aereas Brasileiras",
          "Aeroméxico",
          "Amaszonas",
          "Delta Air Lines",
          "Air France",
          "Lufthansa",
          "ITA Airways",
          "British Airways",
          "Turkish Airlines",
          "Level",
          "Ethiopian Airlines",
          "Air Canada",
          "Emirates Airline",
          "Qatar Airways",
          "Flyest",
          "Air New Zealand",
          "Arajet",
          "Swiss International Air Lines",
          "Viva Air",
          "Latin American Wings",
          "Estelar Latinoamerica",
          "Cubana de Aviación",
          "Aerovías DAP",
          "Edelweiss Air",
          "LASA",
          "Conviasa",
          "Qantas Airways Limited",
          "ASL Airlines France",
          "South African Airways",
          "Eastern Air Lines",
          "BQB Líneas Aéreas",
          "Aero Regional Paraguaya",
          "Icelandair",
          "TAME"
         ],
         "xaxis": "x",
         "y": {
          "bdata": "I8MMANPTAgBwoQEAUlQBABC9AAC4gQAA/VoAALhXAAA1VgAA6VAAANstAADXKgAA9ikAAFAkAABQIwAACCAAAIcfAABUGwAAKRoAAKwYAABMGAAA1xUAAKsUAACLEwAA0RIAAPcRAACKEAAAuA4AAMkMAACwDAAAkQwAABwJAAAiBQAA0AQAAGIEAAD8AgAAqwIAACQCAAD4AQAAxgEAAFsBAAAhAQAA2QAAAHAAAAAIAAAABQAAAAIAAAACAAAAAQAAAAEAAAABAAAAAQAAAA==",
          "dtype": "i4"
         },
         "yaxis": "y"
        }
       ],
       "layout": {
        "barmode": "relative",
        "coloraxis": {
         "colorbar": {
          "title": {
           "text": "vuelos"
          }
         },
         "colorscale": [
          [
           0,
           "#0d0887"
          ],
          [
           0.1111111111111111,
           "#46039f"
          ],
          [
           0.2222222222222222,
           "#7201a8"
          ],
          [
           0.3333333333333333,
           "#9c179e"
          ],
          [
           0.4444444444444444,
           "#bd3786"
          ],
          [
           0.5555555555555556,
           "#d8576b"
          ],
          [
           0.6666666666666666,
           "#ed7953"
          ],
          [
           0.7777777777777778,
           "#fb9f3a"
          ],
          [
           0.8888888888888888,
           "#fdca26"
          ],
          [
           1,
           "#f0f921"
          ]
         ]
        },
        "legend": {
         "tracegroupgap": 0
        },
        "template": {
         "data": {
          "bar": [
           {
            "error_x": {
             "color": "#2a3f5f"
            },
            "error_y": {
             "color": "#2a3f5f"
            },
            "marker": {
             "line": {
              "color": "#E5ECF6",
              "width": 0.5
             },
             "pattern": {
              "fillmode": "overlay",
              "size": 10,
              "solidity": 0.2
             }
            },
            "type": "bar"
           }
          ],
          "barpolar": [
           {
            "marker": {
             "line": {
              "color": "#E5ECF6",
              "width": 0.5
             },
             "pattern": {
              "fillmode": "overlay",
              "size": 10,
              "solidity": 0.2
             }
            },
            "type": "barpolar"
           }
          ],
          "carpet": [
           {
            "aaxis": {
             "endlinecolor": "#2a3f5f",
             "gridcolor": "white",
             "linecolor": "white",
             "minorgridcolor": "white",
             "startlinecolor": "#2a3f5f"
            },
            "baxis": {
             "endlinecolor": "#2a3f5f",
             "gridcolor": "white",
             "linecolor": "white",
             "minorgridcolor": "white",
             "startlinecolor": "#2a3f5f"
            },
            "type": "carpet"
           }
          ],
          "choropleth": [
           {
            "colorbar": {
             "outlinewidth": 0,
             "ticks": ""
            },
            "type": "choropleth"
           }
          ],
          "contour": [
           {
            "colorbar": {
             "outlinewidth": 0,
             "ticks": ""
            },
            "colorscale": [
             [
              0,
              "#0d0887"
             ],
             [
              0.1111111111111111,
              "#46039f"
             ],
             [
              0.2222222222222222,
              "#7201a8"
             ],
             [
              0.3333333333333333,
              "#9c179e"
             ],
             [
              0.4444444444444444,
              "#bd3786"
             ],
             [
              0.5555555555555556,
              "#d8576b"
             ],
             [
              0.6666666666666666,
              "#ed7953"
             ],
             [
              0.7777777777777778,
              "#fb9f3a"
             ],
             [
              0.8888888888888888,
              "#fdca26"
             ],
             [
              1,
              "#f0f921"
             ]
            ],
            "type": "contour"
           }
          ],
          "contourcarpet": [
           {
            "colorbar": {
             "outlinewidth": 0,
             "ticks": ""
            },
            "type": "contourcarpet"
           }
          ],
          "heatmap": [
           {
            "colorbar": {
             "outlinewidth": 0,
             "ticks": ""
            },
            "colorscale": [
             [
              0,
              "#0d0887"
             ],
             [
              0.1111111111111111,
              "#46039f"
             ],
             [
              0.2222222222222222,
              "#7201a8"
             ],
             [
              0.3333333333333333,
              "#9c179e"
             ],
             [
              0.4444444444444444,
              "#bd3786"
             ],
             [
              0.5555555555555556,
              "#d8576b"
             ],
             [
              0.6666666666666666,
              "#ed7953"
             ],
             [
              0.7777777777777778,
              "#fb9f3a"
             ],
             [
              0.8888888888888888,
              "#fdca26"
             ],
             [
              1,
              "#f0f921"
             ]
            ],
            "type": "heatmap"
           }
          ],
          "histogram": [
           {
            "marker": {
             "pattern": {
              "fillmode": "overlay",
              "size": 10,
              "solidity": 0.2
             }
            },
            "type": "histogram"
           }
          ],
          "histogram2d": [
           {
            "colorbar": {
             "outlinewidth": 0,
             "ticks": ""
            },
            "colorscale": [
             [
              0,
              "#0d0887"
             ],
             [
              0.1111111111111111,
              "#46039f"
             ],
             [
              0.2222222222222222,
              "#7201a8"
             ],
             [
              0.3333333333333333,
              "#9c179e"
             ],
             [
              0.4444444444444444,
              "#bd3786"
             ],
             [
              0.5555555555555556,
              "#d8576b"
             ],
             [
              0.6666666666666666,
              "#ed7953"
             ],
             [
              0.7777777777777778,
              "#fb9f3a"
             ],
             [
              0.8888888888888888,
              "#fdca26"
             ],
             [
              1,
              "#f0f921"
             ]
            ],
            "type": "histogram2d"
           }
          ],
          "histogram2dcontour": [
           {
            "colorbar": {
             "outlinewidth": 0,
             "ticks": ""
            },
            "colorscale": [
             [
              0,
              "#0d0887"
             ],
             [
              0.1111111111111111,
              "#46039f"
             ],
             [
              0.2222222222222222,
              "#7201a8"
             ],
             [
              0.3333333333333333,
              "#9c179e"
             ],
             [
              0.4444444444444444,
              "#bd3786"
             ],
             [
              0.5555555555555556,
              "#d8576b"
             ],
             [
              0.6666666666666666,
              "#ed7953"
             ],
             [
              0.7777777777777778,
              "#fb9f3a"
             ],
             [
              0.8888888888888888,
              "#fdca26"
             ],
             [
              1,
              "#f0f921"
             ]
            ],
            "type": "histogram2dcontour"
           }
          ],
          "mesh3d": [
           {
            "colorbar": {
             "outlinewidth": 0,
             "ticks": ""
            },
            "type": "mesh3d"
           }
          ],
          "parcoords": [
           {
            "line": {
             "colorbar": {
              "outlinewidth": 0,
              "ticks": ""
             }
            },
            "type": "parcoords"
           }
          ],
          "pie": [
           {
            "automargin": true,
            "type": "pie"
           }
          ],
          "scatter": [
           {
            "fillpattern": {
             "fillmode": "overlay",
             "size": 10,
             "solidity": 0.2
            },
            "type": "scatter"
           }
          ],
          "scatter3d": [
           {
            "line": {
             "colorbar": {
              "outlinewidth": 0,
              "ticks": ""
             }
            },
            "marker": {
             "colorbar": {
              "outlinewidth": 0,
              "ticks": ""
             }
            },
            "type": "scatter3d"
           }
          ],
          "scattercarpet": [
           {
            "marker": {
             "colorbar": {
              "outlinewidth": 0,
              "ticks": ""
             }
            },
            "type": "scattercarpet"
           }
          ],
          "scattergeo": [
           {
            "marker": {
             "colorbar": {
              "outlinewidth": 0,
              "ticks": ""
             }
            },
            "type": "scattergeo"
           }
          ],
          "scattergl": [
           {
            "marker": {
             "colorbar": {
              "outlinewidth": 0,
              "ticks": ""
             }
            },
            "type": "scattergl"
           }
          ],
          "scattermap": [
           {
            "marker": {
             "colorbar": {
              "outlinewidth": 0,
              "ticks": ""
             }
            },
            "type": "scattermap"
           }
          ],
          "scattermapbox": [
           {
            "marker": {
             "colorbar": {
              "outlinewidth": 0,
              "ticks": ""
             }
            },
            "type": "scattermapbox"
           }
          ],
          "scatterpolar": [
           {
            "marker": {
             "colorbar": {
              "outlinewidth": 0,
              "ticks": ""
             }
            },
            "type": "scatterpolar"
           }
          ],
          "scatterpolargl": [
           {
            "marker": {
             "colorbar": {
              "outlinewidth": 0,
              "ticks": ""
             }
            },
            "type": "scatterpolargl"
           }
          ],
          "scatterternary": [
           {
            "marker": {
             "colorbar": {
              "outlinewidth": 0,
              "ticks": ""
             }
            },
            "type": "scatterternary"
           }
          ],
          "surface": [
           {
            "colorbar": {
             "outlinewidth": 0,
             "ticks": ""
            },
            "colorscale": [
             [
              0,
              "#0d0887"
             ],
             [
              0.1111111111111111,
              "#46039f"
             ],
             [
              0.2222222222222222,
              "#7201a8"
             ],
             [
              0.3333333333333333,
              "#9c179e"
             ],
             [
              0.4444444444444444,
              "#bd3786"
             ],
             [
              0.5555555555555556,
              "#d8576b"
             ],
             [
              0.6666666666666666,
              "#ed7953"
             ],
             [
              0.7777777777777778,
              "#fb9f3a"
             ],
             [
              0.8888888888888888,
              "#fdca26"
             ],
             [
              1,
              "#f0f921"
             ]
            ],
            "type": "surface"
           }
          ],
          "table": [
           {
            "cells": {
             "fill": {
              "color": "#EBF0F8"
             },
             "line": {
              "color": "white"
             }
            },
            "header": {
             "fill": {
              "color": "#C8D4E3"
             },
             "line": {
              "color": "white"
             }
            },
            "type": "table"
           }
          ]
         },
         "layout": {
          "annotationdefaults": {
           "arrowcolor": "#2a3f5f",
           "arrowhead": 0,
           "arrowwidth": 1
          },
          "autotypenumbers": "strict",
          "coloraxis": {
           "colorbar": {
            "outlinewidth": 0,
            "ticks": ""
           }
          },
          "colorscale": {
           "diverging": [
            [
             0,
             "#8e0152"
            ],
            [
             0.1,
             "#c51b7d"
            ],
            [
             0.2,
             "#de77ae"
            ],
            [
             0.3,
             "#f1b6da"
            ],
            [
             0.4,
             "#fde0ef"
            ],
            [
             0.5,
             "#f7f7f7"
            ],
            [
             0.6,
             "#e6f5d0"
            ],
            [
             0.7,
             "#b8e186"
            ],
            [
             0.8,
             "#7fbc41"
            ],
            [
             0.9,
             "#4d9221"
            ],
            [
             1,
             "#276419"
            ]
           ],
           "sequential": [
            [
             0,
             "#0d0887"
            ],
            [
             0.1111111111111111,
             "#46039f"
            ],
            [
             0.2222222222222222,
             "#7201a8"
            ],
            [
             0.3333333333333333,
             "#9c179e"
            ],
            [
             0.4444444444444444,
             "#bd3786"
            ],
            [
             0.5555555555555556,
             "#d8576b"
            ],
            [
             0.6666666666666666,
             "#ed7953"
            ],
            [
             0.7777777777777778,
             "#fb9f3a"
            ],
            [
             0.8888888888888888,
             "#fdca26"
            ],
            [
             1,
             "#f0f921"
            ]
           ],
           "sequentialminus": [
            [
             0,
             "#0d0887"
            ],
            [
             0.1111111111111111,
             "#46039f"
            ],
            [
             0.2222222222222222,
             "#7201a8"
            ],
            [
             0.3333333333333333,
             "#9c179e"
            ],
            [
             0.4444444444444444,
             "#bd3786"
            ],
            [
             0.5555555555555556,
             "#d8576b"
            ],
            [
             0.6666666666666666,
             "#ed7953"
            ],
            [
             0.7777777777777778,
             "#fb9f3a"
            ],
            [
             0.8888888888888888,
             "#fdca26"
            ],
            [
             1,
             "#f0f921"
            ]
           ]
          },
          "colorway": [
           "#636efa",
           "#EF553B",
           "#00cc96",
           "#ab63fa",
           "#FFA15A",
           "#19d3f3",
           "#FF6692",
           "#B6E880",
           "#FF97FF",
           "#FECB52"
          ],
          "font": {
           "color": "#2a3f5f"
          },
          "geo": {
           "bgcolor": "white",
           "lakecolor": "white",
           "landcolor": "#E5ECF6",
           "showlakes": true,
           "showland": true,
           "subunitcolor": "white"
          },
          "hoverlabel": {
           "align": "left"
          },
          "hovermode": "closest",
          "mapbox": {
           "style": "light"
          },
          "paper_bgcolor": "white",
          "plot_bgcolor": "#E5ECF6",
          "polar": {
           "angularaxis": {
            "gridcolor": "white",
            "linecolor": "white",
            "ticks": ""
           },
           "bgcolor": "#E5ECF6",
           "radialaxis": {
            "gridcolor": "white",
            "linecolor": "white",
            "ticks": ""
           }
          },
          "scene": {
           "xaxis": {
            "backgroundcolor": "#E5ECF6",
            "gridcolor": "white",
            "gridwidth": 2,
            "linecolor": "white",
            "showbackground": true,
            "ticks": "",
            "zerolinecolor": "white"
           },
           "yaxis": {
            "backgroundcolor": "#E5ECF6",
            "gridcolor": "white",
            "gridwidth": 2,
            "linecolor": "white",
            "showbackground": true,
            "ticks": "",
            "zerolinecolor": "white"
           },
           "zaxis": {
            "backgroundcolor": "#E5ECF6",
            "gridcolor": "white",
            "gridwidth": 2,
            "linecolor": "white",
            "showbackground": true,
            "ticks": "",
            "zerolinecolor": "white"
           }
          },
          "shapedefaults": {
           "line": {
            "color": "#2a3f5f"
           }
          },
          "ternary": {
           "aaxis": {
            "gridcolor": "white",
            "linecolor": "white",
            "ticks": ""
           },
           "baxis": {
            "gridcolor": "white",
            "linecolor": "white",
            "ticks": ""
           },
           "bgcolor": "#E5ECF6",
           "caxis": {
            "gridcolor": "white",
            "linecolor": "white",
            "ticks": ""
           }
          },
          "title": {
           "x": 0.05
          },
          "xaxis": {
           "automargin": true,
           "gridcolor": "white",
           "linecolor": "white",
           "ticks": "",
           "title": {
            "standoff": 15
           },
           "zerolinecolor": "white",
           "zerolinewidth": 2
          },
          "yaxis": {
           "automargin": true,
           "gridcolor": "white",
           "linecolor": "white",
           "ticks": "",
           "title": {
            "standoff": 15
           },
           "zerolinecolor": "white",
           "zerolinewidth": 2
          }
         }
        },
        "title": {
         "text": "✈️ Total de vuelos por aerolínea"
        },
        "xaxis": {
         "anchor": "y",
         "domain": [
          0,
          1
         ],
         "title": {
          "text": "aerolinea"
         }
        },
        "yaxis": {
         "anchor": "x",
         "domain": [
          0,
          1
         ],
         "title": {
          "text": "vuelos"
         }
        }
       }
      }
     },
     "metadata": {},
     "output_type": "display_data"
    }
   ],
   "source": [
    "### Aerolíneas con más y menos vuelos\n",
    "\n",
    "# Agrupar por aerolínea y cantidad de vuelos\n",
    "vuelos_por_aerolinea = df_vuelos_sql.groupby(\"aerolinea\")[\"vuelos\"].sum().sort_values(ascending=False)\n",
    "\n",
    "print(\"🛫 Aerolínea con más vuelos:\")\n",
    "print(vuelos_por_aerolinea.head(1))\n",
    "\n",
    "print(\"\\n🛬 Aerolínea con menos vuelos:\")\n",
    "print(vuelos_por_aerolinea.tail(1))\n",
    "\n",
    "fig = px.bar(\n",
    "    vuelos_por_aerolinea.reset_index(),\n",
    "    x=\"aerolinea\",\n",
    "    y=\"vuelos\",\n",
    "    title=\"✈️ Total de vuelos por aerolínea\",\n",
    "    color=\"vuelos\",\n",
    "    text=\"vuelos\"\n",
    ")\n",
    "fig.show()"
   ]
  },
  {
   "cell_type": "code",
   "execution_count": null,
   "id": "aa9083bc",
   "metadata": {},
   "outputs": [
    {
     "data": {
      "application/vnd.plotly.v1+json": {
       "config": {
        "plotlyServerURL": "https://plot.ly"
       },
       "data": [
        {
         "domain": {
          "x": [
           0,
           1
          ],
          "y": [
           0,
           1
          ]
         },
         "hole": 0.3,
         "hovertemplate": "aerolinea_agrupada=%{label}<br>vuelos=%{value}<extra></extra>",
         "labels": [
          "Aerolíneas Argentinas",
          "American Airlines",
          "Avianca",
          "Copa Airlines",
          "Flybondi",
          "Gol Transportes Aéreos",
          "JetSMART Airlines",
          "LATAM",
          "Otras",
          "Sky Airline"
         ],
         "legendgroup": "",
         "name": "",
         "showlegend": true,
         "type": "pie",
         "values": {
          "bdata": "OR4BAP0GAAAQCgAAxhEAANg/AACPHQAAF00AAPUtAACcNwAAPwsAAA==",
          "dtype": "i4"
         }
        }
       ],
       "layout": {
        "legend": {
         "tracegroupgap": 0
        },
        "template": {
         "data": {
          "bar": [
           {
            "error_x": {
             "color": "#2a3f5f"
            },
            "error_y": {
             "color": "#2a3f5f"
            },
            "marker": {
             "line": {
              "color": "#E5ECF6",
              "width": 0.5
             },
             "pattern": {
              "fillmode": "overlay",
              "size": 10,
              "solidity": 0.2
             }
            },
            "type": "bar"
           }
          ],
          "barpolar": [
           {
            "marker": {
             "line": {
              "color": "#E5ECF6",
              "width": 0.5
             },
             "pattern": {
              "fillmode": "overlay",
              "size": 10,
              "solidity": 0.2
             }
            },
            "type": "barpolar"
           }
          ],
          "carpet": [
           {
            "aaxis": {
             "endlinecolor": "#2a3f5f",
             "gridcolor": "white",
             "linecolor": "white",
             "minorgridcolor": "white",
             "startlinecolor": "#2a3f5f"
            },
            "baxis": {
             "endlinecolor": "#2a3f5f",
             "gridcolor": "white",
             "linecolor": "white",
             "minorgridcolor": "white",
             "startlinecolor": "#2a3f5f"
            },
            "type": "carpet"
           }
          ],
          "choropleth": [
           {
            "colorbar": {
             "outlinewidth": 0,
             "ticks": ""
            },
            "type": "choropleth"
           }
          ],
          "contour": [
           {
            "colorbar": {
             "outlinewidth": 0,
             "ticks": ""
            },
            "colorscale": [
             [
              0,
              "#0d0887"
             ],
             [
              0.1111111111111111,
              "#46039f"
             ],
             [
              0.2222222222222222,
              "#7201a8"
             ],
             [
              0.3333333333333333,
              "#9c179e"
             ],
             [
              0.4444444444444444,
              "#bd3786"
             ],
             [
              0.5555555555555556,
              "#d8576b"
             ],
             [
              0.6666666666666666,
              "#ed7953"
             ],
             [
              0.7777777777777778,
              "#fb9f3a"
             ],
             [
              0.8888888888888888,
              "#fdca26"
             ],
             [
              1,
              "#f0f921"
             ]
            ],
            "type": "contour"
           }
          ],
          "contourcarpet": [
           {
            "colorbar": {
             "outlinewidth": 0,
             "ticks": ""
            },
            "type": "contourcarpet"
           }
          ],
          "heatmap": [
           {
            "colorbar": {
             "outlinewidth": 0,
             "ticks": ""
            },
            "colorscale": [
             [
              0,
              "#0d0887"
             ],
             [
              0.1111111111111111,
              "#46039f"
             ],
             [
              0.2222222222222222,
              "#7201a8"
             ],
             [
              0.3333333333333333,
              "#9c179e"
             ],
             [
              0.4444444444444444,
              "#bd3786"
             ],
             [
              0.5555555555555556,
              "#d8576b"
             ],
             [
              0.6666666666666666,
              "#ed7953"
             ],
             [
              0.7777777777777778,
              "#fb9f3a"
             ],
             [
              0.8888888888888888,
              "#fdca26"
             ],
             [
              1,
              "#f0f921"
             ]
            ],
            "type": "heatmap"
           }
          ],
          "histogram": [
           {
            "marker": {
             "pattern": {
              "fillmode": "overlay",
              "size": 10,
              "solidity": 0.2
             }
            },
            "type": "histogram"
           }
          ],
          "histogram2d": [
           {
            "colorbar": {
             "outlinewidth": 0,
             "ticks": ""
            },
            "colorscale": [
             [
              0,
              "#0d0887"
             ],
             [
              0.1111111111111111,
              "#46039f"
             ],
             [
              0.2222222222222222,
              "#7201a8"
             ],
             [
              0.3333333333333333,
              "#9c179e"
             ],
             [
              0.4444444444444444,
              "#bd3786"
             ],
             [
              0.5555555555555556,
              "#d8576b"
             ],
             [
              0.6666666666666666,
              "#ed7953"
             ],
             [
              0.7777777777777778,
              "#fb9f3a"
             ],
             [
              0.8888888888888888,
              "#fdca26"
             ],
             [
              1,
              "#f0f921"
             ]
            ],
            "type": "histogram2d"
           }
          ],
          "histogram2dcontour": [
           {
            "colorbar": {
             "outlinewidth": 0,
             "ticks": ""
            },
            "colorscale": [
             [
              0,
              "#0d0887"
             ],
             [
              0.1111111111111111,
              "#46039f"
             ],
             [
              0.2222222222222222,
              "#7201a8"
             ],
             [
              0.3333333333333333,
              "#9c179e"
             ],
             [
              0.4444444444444444,
              "#bd3786"
             ],
             [
              0.5555555555555556,
              "#d8576b"
             ],
             [
              0.6666666666666666,
              "#ed7953"
             ],
             [
              0.7777777777777778,
              "#fb9f3a"
             ],
             [
              0.8888888888888888,
              "#fdca26"
             ],
             [
              1,
              "#f0f921"
             ]
            ],
            "type": "histogram2dcontour"
           }
          ],
          "mesh3d": [
           {
            "colorbar": {
             "outlinewidth": 0,
             "ticks": ""
            },
            "type": "mesh3d"
           }
          ],
          "parcoords": [
           {
            "line": {
             "colorbar": {
              "outlinewidth": 0,
              "ticks": ""
             }
            },
            "type": "parcoords"
           }
          ],
          "pie": [
           {
            "automargin": true,
            "type": "pie"
           }
          ],
          "scatter": [
           {
            "fillpattern": {
             "fillmode": "overlay",
             "size": 10,
             "solidity": 0.2
            },
            "type": "scatter"
           }
          ],
          "scatter3d": [
           {
            "line": {
             "colorbar": {
              "outlinewidth": 0,
              "ticks": ""
             }
            },
            "marker": {
             "colorbar": {
              "outlinewidth": 0,
              "ticks": ""
             }
            },
            "type": "scatter3d"
           }
          ],
          "scattercarpet": [
           {
            "marker": {
             "colorbar": {
              "outlinewidth": 0,
              "ticks": ""
             }
            },
            "type": "scattercarpet"
           }
          ],
          "scattergeo": [
           {
            "marker": {
             "colorbar": {
              "outlinewidth": 0,
              "ticks": ""
             }
            },
            "type": "scattergeo"
           }
          ],
          "scattergl": [
           {
            "marker": {
             "colorbar": {
              "outlinewidth": 0,
              "ticks": ""
             }
            },
            "type": "scattergl"
           }
          ],
          "scattermap": [
           {
            "marker": {
             "colorbar": {
              "outlinewidth": 0,
              "ticks": ""
             }
            },
            "type": "scattermap"
           }
          ],
          "scattermapbox": [
           {
            "marker": {
             "colorbar": {
              "outlinewidth": 0,
              "ticks": ""
             }
            },
            "type": "scattermapbox"
           }
          ],
          "scatterpolar": [
           {
            "marker": {
             "colorbar": {
              "outlinewidth": 0,
              "ticks": ""
             }
            },
            "type": "scatterpolar"
           }
          ],
          "scatterpolargl": [
           {
            "marker": {
             "colorbar": {
              "outlinewidth": 0,
              "ticks": ""
             }
            },
            "type": "scatterpolargl"
           }
          ],
          "scatterternary": [
           {
            "marker": {
             "colorbar": {
              "outlinewidth": 0,
              "ticks": ""
             }
            },
            "type": "scatterternary"
           }
          ],
          "surface": [
           {
            "colorbar": {
             "outlinewidth": 0,
             "ticks": ""
            },
            "colorscale": [
             [
              0,
              "#0d0887"
             ],
             [
              0.1111111111111111,
              "#46039f"
             ],
             [
              0.2222222222222222,
              "#7201a8"
             ],
             [
              0.3333333333333333,
              "#9c179e"
             ],
             [
              0.4444444444444444,
              "#bd3786"
             ],
             [
              0.5555555555555556,
              "#d8576b"
             ],
             [
              0.6666666666666666,
              "#ed7953"
             ],
             [
              0.7777777777777778,
              "#fb9f3a"
             ],
             [
              0.8888888888888888,
              "#fdca26"
             ],
             [
              1,
              "#f0f921"
             ]
            ],
            "type": "surface"
           }
          ],
          "table": [
           {
            "cells": {
             "fill": {
              "color": "#EBF0F8"
             },
             "line": {
              "color": "white"
             }
            },
            "header": {
             "fill": {
              "color": "#C8D4E3"
             },
             "line": {
              "color": "white"
             }
            },
            "type": "table"
           }
          ]
         },
         "layout": {
          "annotationdefaults": {
           "arrowcolor": "#2a3f5f",
           "arrowhead": 0,
           "arrowwidth": 1
          },
          "autotypenumbers": "strict",
          "coloraxis": {
           "colorbar": {
            "outlinewidth": 0,
            "ticks": ""
           }
          },
          "colorscale": {
           "diverging": [
            [
             0,
             "#8e0152"
            ],
            [
             0.1,
             "#c51b7d"
            ],
            [
             0.2,
             "#de77ae"
            ],
            [
             0.3,
             "#f1b6da"
            ],
            [
             0.4,
             "#fde0ef"
            ],
            [
             0.5,
             "#f7f7f7"
            ],
            [
             0.6,
             "#e6f5d0"
            ],
            [
             0.7,
             "#b8e186"
            ],
            [
             0.8,
             "#7fbc41"
            ],
            [
             0.9,
             "#4d9221"
            ],
            [
             1,
             "#276419"
            ]
           ],
           "sequential": [
            [
             0,
             "#0d0887"
            ],
            [
             0.1111111111111111,
             "#46039f"
            ],
            [
             0.2222222222222222,
             "#7201a8"
            ],
            [
             0.3333333333333333,
             "#9c179e"
            ],
            [
             0.4444444444444444,
             "#bd3786"
            ],
            [
             0.5555555555555556,
             "#d8576b"
            ],
            [
             0.6666666666666666,
             "#ed7953"
            ],
            [
             0.7777777777777778,
             "#fb9f3a"
            ],
            [
             0.8888888888888888,
             "#fdca26"
            ],
            [
             1,
             "#f0f921"
            ]
           ],
           "sequentialminus": [
            [
             0,
             "#0d0887"
            ],
            [
             0.1111111111111111,
             "#46039f"
            ],
            [
             0.2222222222222222,
             "#7201a8"
            ],
            [
             0.3333333333333333,
             "#9c179e"
            ],
            [
             0.4444444444444444,
             "#bd3786"
            ],
            [
             0.5555555555555556,
             "#d8576b"
            ],
            [
             0.6666666666666666,
             "#ed7953"
            ],
            [
             0.7777777777777778,
             "#fb9f3a"
            ],
            [
             0.8888888888888888,
             "#fdca26"
            ],
            [
             1,
             "#f0f921"
            ]
           ]
          },
          "colorway": [
           "#636efa",
           "#EF553B",
           "#00cc96",
           "#ab63fa",
           "#FFA15A",
           "#19d3f3",
           "#FF6692",
           "#B6E880",
           "#FF97FF",
           "#FECB52"
          ],
          "font": {
           "color": "#2a3f5f"
          },
          "geo": {
           "bgcolor": "white",
           "lakecolor": "white",
           "landcolor": "#E5ECF6",
           "showlakes": true,
           "showland": true,
           "subunitcolor": "white"
          },
          "hoverlabel": {
           "align": "left"
          },
          "hovermode": "closest",
          "mapbox": {
           "style": "light"
          },
          "paper_bgcolor": "white",
          "plot_bgcolor": "#E5ECF6",
          "polar": {
           "angularaxis": {
            "gridcolor": "white",
            "linecolor": "white",
            "ticks": ""
           },
           "bgcolor": "#E5ECF6",
           "radialaxis": {
            "gridcolor": "white",
            "linecolor": "white",
            "ticks": ""
           }
          },
          "scene": {
           "xaxis": {
            "backgroundcolor": "#E5ECF6",
            "gridcolor": "white",
            "gridwidth": 2,
            "linecolor": "white",
            "showbackground": true,
            "ticks": "",
            "zerolinecolor": "white"
           },
           "yaxis": {
            "backgroundcolor": "#E5ECF6",
            "gridcolor": "white",
            "gridwidth": 2,
            "linecolor": "white",
            "showbackground": true,
            "ticks": "",
            "zerolinecolor": "white"
           },
           "zaxis": {
            "backgroundcolor": "#E5ECF6",
            "gridcolor": "white",
            "gridwidth": 2,
            "linecolor": "white",
            "showbackground": true,
            "ticks": "",
            "zerolinecolor": "white"
           }
          },
          "shapedefaults": {
           "line": {
            "color": "#2a3f5f"
           }
          },
          "ternary": {
           "aaxis": {
            "gridcolor": "white",
            "linecolor": "white",
            "ticks": ""
           },
           "baxis": {
            "gridcolor": "white",
            "linecolor": "white",
            "ticks": ""
           },
           "bgcolor": "#E5ECF6",
           "caxis": {
            "gridcolor": "white",
            "linecolor": "white",
            "ticks": ""
           }
          },
          "title": {
           "x": 0.05
          },
          "xaxis": {
           "automargin": true,
           "gridcolor": "white",
           "linecolor": "white",
           "ticks": "",
           "title": {
            "standoff": 15
           },
           "zerolinecolor": "white",
           "zerolinewidth": 2
          },
          "yaxis": {
           "automargin": true,
           "gridcolor": "white",
           "linecolor": "white",
           "ticks": "",
           "title": {
            "standoff": 15
           },
           "zerolinecolor": "white",
           "zerolinewidth": 2
          }
         }
        },
        "title": {
         "text": "🥧 Participación de aerolíneas en el total de vuelos (2023)"
        }
       }
      }
     },
     "metadata": {},
     "output_type": "display_data"
    }
   ],
   "source": [
    "###\n",
    "\n",
    "# Asegurar tipo datetime\n",
    "df_vuelos_sql[\"indice_tiempo\"] = pd.to_datetime(df_vuelos_sql[\"indice_tiempo\"])\n",
    "\n",
    "# Filtrar por año\n",
    "df_2025 = df_vuelos[df_vuelos[\"indice_tiempo\"].dt.year == 2025]\n",
    "\n",
    "# Agrupar por aerolínea\n",
    "vuelos_por_aerolinea = df_2025.groupby(\"aerolinea\")[\"vuelos\"].sum().reset_index()\n",
    "\n",
    "# Calcular el total y el porcentaje\n",
    "total_vuelos = vuelos_por_aerolinea[\"vuelos\"].sum()\n",
    "vuelos_por_aerolinea[\"porcentaje\"] = vuelos_por_aerolinea[\"vuelos\"] / total_vuelos * 100\n",
    "\n",
    "# Agrupar aerolíneas con < 1% como 'Otras'\n",
    "vuelos_por_aerolinea[\"aerolinea_agrupada\"] = vuelos_por_aerolinea.apply(\n",
    "    lambda row: row[\"aerolinea\"] if row[\"porcentaje\"] >= 1 else \"Otras\",\n",
    "    axis=1\n",
    ")\n",
    "\n",
    "# Reagrupar los datos para el gráfico final\n",
    "df_final = vuelos_por_aerolinea.groupby(\"aerolinea_agrupada\")[\"vuelos\"].sum().reset_index()\n",
    "\n",
    "# Pie chart\n",
    "fig = px.pie(\n",
    "    df_final,\n",
    "    names=\"aerolinea_agrupada\",\n",
    "    values=\"vuelos\",\n",
    "    title=\"🥧 Participación de aerolíneas en el total de vuelos (2025)\",\n",
    "    hole=0.3\n",
    ")\n",
    "\n",
    "fig.show()"
   ]
  }
 ],
 "metadata": {
  "kernelspec": {
   "display_name": "venv_aereos (3.12.2)",
   "language": "python",
   "name": "python3"
  },
  "language_info": {
   "codemirror_mode": {
    "name": "ipython",
    "version": 3
   },
   "file_extension": ".py",
   "mimetype": "text/x-python",
   "name": "python",
   "nbconvert_exporter": "python",
   "pygments_lexer": "ipython3",
   "version": "3.12.2"
  }
 },
 "nbformat": 4,
 "nbformat_minor": 5
}
